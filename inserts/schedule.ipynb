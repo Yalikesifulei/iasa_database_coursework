{
 "metadata": {
  "language_info": {
   "codemirror_mode": {
    "name": "ipython",
    "version": 3
   },
   "file_extension": ".py",
   "mimetype": "text/x-python",
   "name": "python",
   "nbconvert_exporter": "python",
   "pygments_lexer": "ipython3",
   "version": "3.9.1"
  },
  "orig_nbformat": 2,
  "kernelspec": {
   "name": "python391jvsc74a57bd0fd618e2f21e38c3489c4afc507039bbdaa55822f5f77efff564552ebb3a7372f",
   "display_name": "Python 3.9.1 64-bit"
  },
  "metadata": {
   "interpreter": {
    "hash": "fd618e2f21e38c3489c4afc507039bbdaa55822f5f77efff564552ebb3a7372f"
   }
  }
 },
 "nbformat": 4,
 "nbformat_minor": 2,
 "cells": [
  {
   "cell_type": "code",
   "execution_count": 8,
   "metadata": {},
   "outputs": [],
   "source": [
    "import pandas as pd\n",
    "import numpy as np"
   ]
  },
  {
   "cell_type": "code",
   "execution_count": 2,
   "metadata": {},
   "outputs": [],
   "source": [
    "groups = pd.read_csv('groups.csv', encoding='windows-1251')\n",
    "subjects = pd.read_csv('subjects.csv', encoding='windows-1251')\n",
    "teachers = pd.read_csv('teachers.csv', delimiter=';', encoding='windows-1251')"
   ]
  },
  {
   "cell_type": "code",
   "execution_count": 3,
   "metadata": {},
   "outputs": [],
   "source": [
    "schedule = pd.read_csv('schedule.csv', delimiter=';', encoding='windows-1251')"
   ]
  },
  {
   "cell_type": "code",
   "execution_count": 4,
   "metadata": {},
   "outputs": [
    {
     "output_type": "execute_result",
     "data": {
      "text/plain": [
       "     subject_id  teacher_id group_code lesson_type  \\\n",
       "0           1.0        10.0      ФА-01         lec   \n",
       "1           1.0        10.0      ФА-01        prac   \n",
       "2           3.0        28.0      ФА-01        prac   \n",
       "3           5.0        14.0      ФА-01        prac   \n",
       "4          12.0         NaN      ФА-01         lec   \n",
       "..          ...         ...        ...         ...   \n",
       "514        59.0         NaN      НТ-71        prac   \n",
       "515        81.0         NaN      НТ-71        prac   \n",
       "516        59.0         NaN      НТ-71         lec   \n",
       "517        59.0         NaN      НЕ-71        prac   \n",
       "518        82.0         NaN      НЕ-71        prac   \n",
       "\n",
       "                                      Unnamed: 4  \n",
       "0    Українська мова за професійним спрямуванням  \n",
       "1                                            NaN  \n",
       "2                            Фізичне виховання 1  \n",
       "3                                Іноземна мова 1  \n",
       "4                          Математичний аналіз 1  \n",
       "..                                           ...  \n",
       "514                                          NaN  \n",
       "515                       Переддипломна практика  \n",
       "516                                 Теорія хаосу  \n",
       "517                                          NaN  \n",
       "518                       Переддипломна практика  \n",
       "\n",
       "[519 rows x 5 columns]"
      ],
      "text/html": "<div>\n<style scoped>\n    .dataframe tbody tr th:only-of-type {\n        vertical-align: middle;\n    }\n\n    .dataframe tbody tr th {\n        vertical-align: top;\n    }\n\n    .dataframe thead th {\n        text-align: right;\n    }\n</style>\n<table border=\"1\" class=\"dataframe\">\n  <thead>\n    <tr style=\"text-align: right;\">\n      <th></th>\n      <th>subject_id</th>\n      <th>teacher_id</th>\n      <th>group_code</th>\n      <th>lesson_type</th>\n      <th>Unnamed: 4</th>\n    </tr>\n  </thead>\n  <tbody>\n    <tr>\n      <th>0</th>\n      <td>1.0</td>\n      <td>10.0</td>\n      <td>ФА-01</td>\n      <td>lec</td>\n      <td>Українська мова за професійним спрямуванням</td>\n    </tr>\n    <tr>\n      <th>1</th>\n      <td>1.0</td>\n      <td>10.0</td>\n      <td>ФА-01</td>\n      <td>prac</td>\n      <td>NaN</td>\n    </tr>\n    <tr>\n      <th>2</th>\n      <td>3.0</td>\n      <td>28.0</td>\n      <td>ФА-01</td>\n      <td>prac</td>\n      <td>Фізичне виховання 1</td>\n    </tr>\n    <tr>\n      <th>3</th>\n      <td>5.0</td>\n      <td>14.0</td>\n      <td>ФА-01</td>\n      <td>prac</td>\n      <td>Іноземна мова 1</td>\n    </tr>\n    <tr>\n      <th>4</th>\n      <td>12.0</td>\n      <td>NaN</td>\n      <td>ФА-01</td>\n      <td>lec</td>\n      <td>Математичний аналіз 1</td>\n    </tr>\n    <tr>\n      <th>...</th>\n      <td>...</td>\n      <td>...</td>\n      <td>...</td>\n      <td>...</td>\n      <td>...</td>\n    </tr>\n    <tr>\n      <th>514</th>\n      <td>59.0</td>\n      <td>NaN</td>\n      <td>НТ-71</td>\n      <td>prac</td>\n      <td>NaN</td>\n    </tr>\n    <tr>\n      <th>515</th>\n      <td>81.0</td>\n      <td>NaN</td>\n      <td>НТ-71</td>\n      <td>prac</td>\n      <td>Переддипломна практика</td>\n    </tr>\n    <tr>\n      <th>516</th>\n      <td>59.0</td>\n      <td>NaN</td>\n      <td>НТ-71</td>\n      <td>lec</td>\n      <td>Теорія хаосу</td>\n    </tr>\n    <tr>\n      <th>517</th>\n      <td>59.0</td>\n      <td>NaN</td>\n      <td>НЕ-71</td>\n      <td>prac</td>\n      <td>NaN</td>\n    </tr>\n    <tr>\n      <th>518</th>\n      <td>82.0</td>\n      <td>NaN</td>\n      <td>НЕ-71</td>\n      <td>prac</td>\n      <td>Переддипломна практика</td>\n    </tr>\n  </tbody>\n</table>\n<p>519 rows × 5 columns</p>\n</div>"
     },
     "metadata": {},
     "execution_count": 4
    }
   ],
   "source": [
    "schedule"
   ]
  },
  {
   "cell_type": "code",
   "execution_count": 7,
   "metadata": {},
   "outputs": [
    {
     "output_type": "execute_result",
     "data": {
      "text/plain": [
       "0      2\n",
       "1      6\n",
       "2      7\n",
       "3     16\n",
       "4     18\n",
       "5     19\n",
       "6     20\n",
       "7     21\n",
       "8     22\n",
       "9     23\n",
       "10    26\n",
       "11    29\n",
       "Name: teacher_id, dtype: int64"
      ]
     },
     "metadata": {},
     "execution_count": 7
    }
   ],
   "source": [
    "teachers[teachers['chair_id'] == 0]['teacher_id']"
   ]
  },
  {
   "cell_type": "code",
   "execution_count": 9,
   "metadata": {},
   "outputs": [
    {
     "output_type": "stream",
     "name": "stdout",
     "text": [
      "subject_id\nteacher_id\ngroup_code\nlesson_type\nUnnamed: 4\n"
     ]
    }
   ],
   "source": [
    "for row in schedule:\n",
    "    print(row)"
   ]
  },
  {
   "cell_type": "code",
   "execution_count": null,
   "metadata": {},
   "outputs": [],
   "source": []
  }
 ]
}